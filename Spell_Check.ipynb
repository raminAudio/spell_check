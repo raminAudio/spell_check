{
 "cells": [
  {
   "cell_type": "code",
   "execution_count": 59,
   "id": "0be9c062",
   "metadata": {},
   "outputs": [],
   "source": [
    "from tensorflow.keras import layers\n",
    "from tensorflow import keras\n",
    "import copy\n",
    "import pandas as pd\n",
    "import numpy as np\n",
    "import tensorflow as tf\n",
    "from keras.preprocessing.sequence import pad_sequences\n",
    "import tensorflow_text as tf_text\n",
    "import matplotlib.ticker as ticker\n",
    "import matplotlib.pylab as plt\n",
    "from typing import Any, Tuple\n",
    "import typing\n"
   ]
  },
  {
   "cell_type": "code",
   "execution_count": 60,
   "id": "b3bc4921",
   "metadata": {},
   "outputs": [],
   "source": [
    "#@title Shape checker\n",
    "class ShapeChecker():\n",
    "  def __init__(self):\n",
    "    # Keep a cache of every axis-name seen\n",
    "    self.shapes = {}\n",
    "\n",
    "  def __call__(self, tensor, names, broadcast=False):\n",
    "    if not tf.executing_eagerly():\n",
    "      return\n",
    "\n",
    "    if isinstance(names, str):\n",
    "      names = (names,)\n",
    "\n",
    "    shape = tf.shape(tensor)\n",
    "    rank = tf.rank(tensor)\n",
    "\n",
    "    if rank != len(names):\n",
    "      raise ValueError(f'Rank mismatch:\\n'\n",
    "                       f'    found {rank}: {shape.numpy()}\\n'\n",
    "                       f'    expected {len(names)}: {names}\\n')\n",
    "\n",
    "    for i, name in enumerate(names):\n",
    "      if isinstance(name, int):\n",
    "        old_dim = name\n",
    "      else:\n",
    "        old_dim = self.shapes.get(name, None)\n",
    "      new_dim = shape[i]\n",
    "\n",
    "      if (broadcast and new_dim == 1):\n",
    "        continue\n",
    "\n",
    "      if old_dim is None:\n",
    "        # If the axis name is new, add its length to the cache.\n",
    "        self.shapes[name] = new_dim\n",
    "        continue\n",
    "\n",
    "      if new_dim != old_dim:\n",
    "        raise ValueError(f\"Shape mismatch for dimension: '{name}'\\n\"\n",
    "                         f\"    found: {new_dim}\\n\"\n",
    "                         f\"    expected: {old_dim}\\n\")"
   ]
  },
  {
   "cell_type": "code",
   "execution_count": 61,
   "id": "44c50983",
   "metadata": {},
   "outputs": [],
   "source": [
    "df = pd.read_csv('spell_correct.csv')\n",
    "df= df.dropna()"
   ]
  },
  {
   "cell_type": "code",
   "execution_count": 62,
   "id": "e8303c9c",
   "metadata": {},
   "outputs": [],
   "source": [
    "targ = [' '.join(list(w)) for w in list(df['correct'])]\n",
    "inp = [' '.join(list(w)) for w in list(df['incorrect'])]\n",
    "\n"
   ]
  },
  {
   "cell_type": "code",
   "execution_count": 63,
   "id": "1bda3b16",
   "metadata": {},
   "outputs": [],
   "source": [
    "BUFFER_SIZE = len(inp)\n",
    "BATCH_SIZE = 64\n",
    "\n",
    "dataset = tf.data.Dataset.from_tensor_slices((inp, targ)).shuffle(BUFFER_SIZE)\n",
    "dataset = dataset.batch(BATCH_SIZE)"
   ]
  },
  {
   "cell_type": "code",
   "execution_count": 64,
   "id": "ff168b7f",
   "metadata": {},
   "outputs": [],
   "source": [
    "def tf_lower_and_split_punct(text):\n",
    "    text = tf.strings.join(['[START]', text, '[END]'], separator=' ')\n",
    "    return text"
   ]
  },
  {
   "cell_type": "code",
   "execution_count": 65,
   "id": "703488dc",
   "metadata": {},
   "outputs": [],
   "source": [
    "max_vocab_size = 50\n",
    "\n",
    "input_text_processor = tf.keras.layers.TextVectorization(\n",
    "    standardize=tf_lower_and_split_punct,\n",
    "    max_tokens=max_vocab_size)\n",
    "\n",
    "input_text_processor.adapt(inp)\n",
    "\n",
    "output_text_processor = tf.keras.layers.TextVectorization(\n",
    "    standardize=tf_lower_and_split_punct,\n",
    "    max_tokens=max_vocab_size)\n",
    "\n",
    "output_text_processor.adapt(targ)\n"
   ]
  },
  {
   "cell_type": "code",
   "execution_count": 66,
   "id": "31c40f65",
   "metadata": {},
   "outputs": [
    {
     "data": {
      "text/plain": [
       "['', '[UNK]', 'e', '[START]', '[END]', 'i', 'a', 'n', 't', 'r']"
      ]
     },
     "execution_count": 66,
     "metadata": {},
     "output_type": "execute_result"
    }
   ],
   "source": [
    "input_text_processor.get_vocabulary()[:10]\n",
    "output_text_processor.get_vocabulary()[:10]"
   ]
  },
  {
   "cell_type": "code",
   "execution_count": 67,
   "id": "737fb39d",
   "metadata": {},
   "outputs": [
    {
     "name": "stdout",
     "output_type": "stream",
     "text": [
      "h e l l o\n",
      "[START] h e l l o [END]\n"
     ]
    }
   ],
   "source": [
    "example_text = tf.constant('h e l l o')\n",
    "\n",
    "print(example_text.numpy().decode())\n",
    "print(tf_lower_and_split_punct(example_text).numpy().decode())"
   ]
  },
  {
   "cell_type": "code",
   "execution_count": 68,
   "id": "af36b0d5",
   "metadata": {},
   "outputs": [
    {
     "name": "stdout",
     "output_type": "stream",
     "text": [
      "tf.Tensor(\n",
      "[b'o r i g i o n a l' b'h e r s' b'i n c r e a s e s' b'p r i t y'\n",
      " b'e x z a d g o r a t e'], shape=(5,), dtype=string)\n",
      "\n",
      "tf.Tensor(\n",
      "[b'o r i g i n a l' b'h e d g e' b'i n c r e a s e d' b'p r e t t y'\n",
      " b'e x a g g e r a t e'], shape=(5,), dtype=string)\n"
     ]
    }
   ],
   "source": [
    "for example_input_batch, example_target_batch in dataset.take(1):\n",
    "  print(example_input_batch[:5])\n",
    "  print()\n",
    "  print(example_target_batch[:5])\n",
    "  break\n",
    "    \n",
    "example_tokens = input_text_processor(example_input_batch)\n"
   ]
  },
  {
   "cell_type": "code",
   "execution_count": 69,
   "id": "1b6040b5",
   "metadata": {},
   "outputs": [
    {
     "data": {
      "text/plain": [
       "<tf.Tensor: shape=(3, 10), dtype=int64, numpy=\n",
       "array([[ 2, 11, 10,  5, 19,  5, 11,  7,  6, 12],\n",
       "       [ 2, 20,  4, 10,  9,  3,  0,  0,  0,  0],\n",
       "       [ 2,  5,  7, 13, 10,  4,  6,  9,  4,  9]])>"
      ]
     },
     "execution_count": 69,
     "metadata": {},
     "output_type": "execute_result"
    }
   ],
   "source": [
    "example_tokens = input_text_processor(example_input_batch)\n",
    "example_tokens[:3, :10]"
   ]
  },
  {
   "cell_type": "code",
   "execution_count": 70,
   "id": "8f066e84",
   "metadata": {},
   "outputs": [
    {
     "data": {
      "text/plain": [
       "'[START] o r i g i o n a l [END]       '"
      ]
     },
     "execution_count": 70,
     "metadata": {},
     "output_type": "execute_result"
    }
   ],
   "source": [
    "input_vocab = np.array(input_text_processor.get_vocabulary())\n",
    "tokens = input_vocab[example_tokens[0].numpy()]\n",
    "' '.join(tokens)"
   ]
  },
  {
   "cell_type": "code",
   "execution_count": 71,
   "id": "834b8c8e",
   "metadata": {},
   "outputs": [
    {
     "data": {
      "text/plain": [
       "Text(0.5, 1.0, 'Mask')"
      ]
     },
     "execution_count": 71,
     "metadata": {},
     "output_type": "execute_result"
    },
    {
     "data": {
      "image/png": "[encoded data removed]",
      "text/plain": [
       "<Figure size 432x288 with 2 Axes>"
      ]
     },
     "metadata": {
      "needs_background": "light"
     },
     "output_type": "display_data"
    }
   ],
   "source": [
    "plt.subplot(1, 2, 1)\n",
    "plt.pcolormesh(example_tokens)\n",
    "plt.title('Token IDs')\n",
    "\n",
    "plt.subplot(1, 2, 2)\n",
    "plt.pcolormesh(example_tokens != 0)\n",
    "plt.title('Mask')"
   ]
  },
  {
   "cell_type": "code",
   "execution_count": 72,
   "id": "e9e0edf4",
   "metadata": {},
   "outputs": [],
   "source": [
    "embedding_dim = 256\n",
    "units = 1024"
   ]
  },
  {
   "cell_type": "code",
   "execution_count": 73,
   "id": "a7b184ad",
   "metadata": {},
   "outputs": [],
   "source": [
    "class Encoder(tf.keras.layers.Layer):\n",
    "  def __init__(self, input_vocab_size, embedding_dim, enc_units):\n",
    "    super(Encoder, self).__init__()\n",
    "    self.enc_units = enc_units\n",
    "    self.input_vocab_size = input_vocab_size\n",
    "\n",
    "    # The embedding layer converts tokens to vectors\n",
    "    self.embedding = tf.keras.layers.Embedding(self.input_vocab_size,\n",
    "                                               embedding_dim)\n",
    "\n",
    "    # The GRU RNN layer processes those vectors sequentially.\n",
    "    self.gru = tf.keras.layers.GRU(self.enc_units,\n",
    "                                   # Return the sequence and state\n",
    "                                   return_sequences=True,\n",
    "                                   return_state=True,\n",
    "                                   recurrent_initializer='glorot_uniform')\n",
    "\n",
    "  def call(self, tokens, state=None):\n",
    "    shape_checker = ShapeChecker()\n",
    "    shape_checker(tokens, ('batch', 's'))\n",
    "\n",
    "    # 2. The embedding layer looks up the embedding for each token.\n",
    "    vectors = self.embedding(tokens)\n",
    "    shape_checker(vectors, ('batch', 's', 'embed_dim'))\n",
    "\n",
    "    # 3. The GRU processes the embedding sequence.\n",
    "    #    output shape: (batch, s, enc_units)\n",
    "    #    state shape: (batch, enc_units)\n",
    "    output, state = self.gru(vectors, initial_state=state)\n",
    "    shape_checker(output, ('batch', 's', 'enc_units'))\n",
    "    shape_checker(state, ('batch', 'enc_units'))\n",
    "\n",
    "    # 4. Returns the new sequence and its state.\n",
    "    return output, state"
   ]
  },
  {
   "cell_type": "code",
   "execution_count": 74,
   "id": "8edc785f",
   "metadata": {},
   "outputs": [
    {
     "name": "stdout",
     "output_type": "stream",
     "text": [
      "Input batch, shape (batch): (64,)\n",
      "Input batch tokens, shape (batch, s): (64, 18)\n",
      "Encoder output, shape (batch, s, units): (64, 18, 1024)\n",
      "Encoder state, shape (batch, units): (64, 1024)\n"
     ]
    }
   ],
   "source": [
    "# Convert the input text to tokens.\n",
    "example_tokens = input_text_processor(example_input_batch)\n",
    "\n",
    "# Encode the input sequence.\n",
    "encoder = Encoder(input_text_processor.vocabulary_size(),\n",
    "                  embedding_dim, units)\n",
    "example_enc_output, example_enc_state = encoder(example_tokens)\n",
    "\n",
    "print(f'Input batch, shape (batch): {example_input_batch.shape}')\n",
    "print(f'Input batch tokens, shape (batch, s): {example_tokens.shape}')\n",
    "print(f'Encoder output, shape (batch, s, units): {example_enc_output.shape}')\n",
    "print(f'Encoder state, shape (batch, units): {example_enc_state.shape}')"
   ]
  },
  {
   "cell_type": "code",
   "execution_count": 75,
   "id": "dee05e5c",
   "metadata": {},
   "outputs": [],
   "source": [
    "class BahdanauAttention(tf.keras.layers.Layer):\n",
    "  def __init__(self, units):\n",
    "    super().__init__()\n",
    "    # For Eqn. (4), the  Bahdanau attention\n",
    "    self.W1 = tf.keras.layers.Dense(units, use_bias=False)\n",
    "    self.W2 = tf.keras.layers.Dense(units, use_bias=False)\n",
    "\n",
    "    self.attention = tf.keras.layers.AdditiveAttention()\n",
    "\n",
    "  def call(self, query, value, mask):\n",
    "    shape_checker = ShapeChecker()\n",
    "    shape_checker(query, ('batch', 't', 'query_units'))\n",
    "    shape_checker(value, ('batch', 's', 'value_units'))\n",
    "    shape_checker(mask, ('batch', 's'))\n",
    "\n",
    "    # From Eqn. (4), `W1@ht`.\n",
    "    w1_query = self.W1(query)\n",
    "    shape_checker(w1_query, ('batch', 't', 'attn_units'))\n",
    "\n",
    "    # From Eqn. (4), `W2@hs`.\n",
    "    w2_key = self.W2(value)\n",
    "    shape_checker(w2_key, ('batch', 's', 'attn_units'))\n",
    "\n",
    "    query_mask = tf.ones(tf.shape(query)[:-1], dtype=bool)\n",
    "    value_mask = mask\n",
    "\n",
    "    context_vector, attention_weights = self.attention(\n",
    "        inputs = [w1_query, value, w2_key],\n",
    "        mask=[query_mask, value_mask],\n",
    "        return_attention_scores = True,\n",
    "    )\n",
    "    shape_checker(context_vector, ('batch', 't', 'value_units'))\n",
    "    shape_checker(attention_weights, ('batch', 't', 's'))\n",
    "\n",
    "    return context_vector, attention_weights"
   ]
  },
  {
   "cell_type": "code",
   "execution_count": 76,
   "id": "d02b61eb",
   "metadata": {},
   "outputs": [
    {
     "data": {
      "text/plain": [
       "<__main__.BahdanauAttention at 0x7ff0791b6b20>"
      ]
     },
     "execution_count": 76,
     "metadata": {},
     "output_type": "execute_result"
    }
   ],
   "source": [
    "attention_layer = BahdanauAttention(units)\n",
    "attention_layer"
   ]
  },
  {
   "cell_type": "code",
   "execution_count": 77,
   "id": "1e3c9813",
   "metadata": {},
   "outputs": [
    {
     "data": {
      "text/plain": [
       "TensorShape([64, 18])"
      ]
     },
     "execution_count": 77,
     "metadata": {},
     "output_type": "execute_result"
    }
   ],
   "source": [
    "(example_tokens != 0).shape"
   ]
  },
  {
   "cell_type": "code",
   "execution_count": 78,
   "id": "c7c3fe0b",
   "metadata": {},
   "outputs": [
    {
     "name": "stdout",
     "output_type": "stream",
     "text": [
      "Attention result shape: (batch_size, query_seq_length, units):           (64, 2, 1024)\n",
      "Attention weights shape: (batch_size, query_seq_length, value_seq_length): (64, 2, 18)\n"
     ]
    }
   ],
   "source": [
    "# Later, the decoder will generate this attention query\n",
    "example_attention_query = tf.random.normal(shape=[len(example_tokens), 2, 10])\n",
    "\n",
    "# Attend to the encoded tokens\n",
    "\n",
    "context_vector, attention_weights = attention_layer(\n",
    "    query=example_attention_query,\n",
    "    value=example_enc_output,\n",
    "    mask=(example_tokens != 0))\n",
    "\n",
    "print(f'Attention result shape: (batch_size, query_seq_length, units):           {context_vector.shape}')\n",
    "print(f'Attention weights shape: (batch_size, query_seq_length, value_seq_length): {attention_weights.shape}')"
   ]
  },
  {
   "cell_type": "code",
   "execution_count": 79,
   "id": "40f923fd",
   "metadata": {},
   "outputs": [
    {
     "data": {
      "text/plain": [
       "Text(0.5, 1.0, 'Mask')"
      ]
     },
     "execution_count": 79,
     "metadata": {},
     "output_type": "execute_result"
    },
    {
     "data": {
      "image/png": "[encoded data removed]",
      "text/plain": [
       "<Figure size 432x288 with 2 Axes>"
      ]
     },
     "metadata": {
      "needs_background": "light"
     },
     "output_type": "display_data"
    }
   ],
   "source": [
    "plt.subplot(1, 2, 1)\n",
    "plt.pcolormesh(attention_weights[:, 0, :])\n",
    "plt.title('Attention weights')\n",
    "\n",
    "plt.subplot(1, 2, 2)\n",
    "plt.pcolormesh(example_tokens != 0)\n",
    "plt.title('Mask')\n"
   ]
  },
  {
   "cell_type": "code",
   "execution_count": 80,
   "id": "7c560813",
   "metadata": {},
   "outputs": [
    {
     "data": {
      "text/plain": [
       "TensorShape([64, 2, 18])"
      ]
     },
     "execution_count": 80,
     "metadata": {},
     "output_type": "execute_result"
    }
   ],
   "source": [
    "attention_weights.shape"
   ]
  },
  {
   "cell_type": "code",
   "execution_count": 81,
   "id": "67d70421",
   "metadata": {},
   "outputs": [],
   "source": [
    "attention_slice = attention_weights[0, 0].numpy()\n",
    "attention_slice = attention_slice[attention_slice != 0]"
   ]
  },
  {
   "cell_type": "code",
   "execution_count": 82,
   "id": "e497f01c",
   "metadata": {},
   "outputs": [
    {
     "data": {
      "text/plain": [
       "[<matplotlib.lines.Line2D at 0x7ff07772fbe0>]"
      ]
     },
     "execution_count": 82,
     "metadata": {},
     "output_type": "execute_result"
    },
    {
     "data": {
      "text/plain": [
       "<Figure size 432x288 with 0 Axes>"
      ]
     },
     "metadata": {},
     "output_type": "display_data"
    },
    {
     "data": {
      "image/png": "[encoded data removed]",
      "text/plain": [
       "<Figure size 864x432 with 2 Axes>"
      ]
     },
     "metadata": {
      "needs_background": "light"
     },
     "output_type": "display_data"
    }
   ],
   "source": [
    "#@title\n",
    "plt.suptitle('Attention weights for one sequence')\n",
    "\n",
    "plt.figure(figsize=(12, 6))\n",
    "a1 = plt.subplot(1, 2, 1)\n",
    "plt.bar(range(len(attention_slice)), attention_slice)\n",
    "# freeze the xlim\n",
    "plt.xlim(plt.xlim())\n",
    "plt.xlabel('Attention weights')\n",
    "\n",
    "a2 = plt.subplot(1, 2, 2)\n",
    "plt.bar(range(len(attention_slice)), attention_slice)\n",
    "plt.xlabel('Attention weights, zoomed')\n",
    "\n",
    "# zoom in\n",
    "top = max(a1.get_ylim())\n",
    "zoom = 0.85*top\n",
    "a2.set_ylim([0.90*top, top])\n",
    "a1.plot(a1.get_xlim(), [zoom, zoom], color='k')"
   ]
  },
  {
   "cell_type": "code",
   "execution_count": 83,
   "id": "a0318ffe",
   "metadata": {},
   "outputs": [],
   "source": [
    "class Decoder(tf.keras.layers.Layer):\n",
    "  def __init__(self, output_vocab_size, embedding_dim, dec_units):\n",
    "    super(Decoder, self).__init__()\n",
    "    self.dec_units = dec_units\n",
    "    self.output_vocab_size = output_vocab_size\n",
    "    self.embedding_dim = embedding_dim\n",
    "\n",
    "    # For Step 1. The embedding layer convets token IDs to vectors\n",
    "    self.embedding = tf.keras.layers.Embedding(self.output_vocab_size,\n",
    "                                               embedding_dim)\n",
    "\n",
    "    # For Step 2. The RNN keeps track of what's been generated so far.\n",
    "    self.gru = tf.keras.layers.GRU(self.dec_units,\n",
    "                                   return_sequences=True,\n",
    "                                   return_state=True,\n",
    "                                   recurrent_initializer='glorot_uniform')\n",
    "\n",
    "    # For step 3. The RNN output will be the query for the attention layer.\n",
    "    self.attention = BahdanauAttention(self.dec_units)\n",
    "\n",
    "    # For step 4. Eqn. (3): converting `ct` to `at`\n",
    "    self.Wc = tf.keras.layers.Dense(dec_units, activation=tf.math.tanh,\n",
    "                                    use_bias=False)\n",
    "\n",
    "    # For step 5. This fully connected layer produces the logits for each\n",
    "    # output token.\n",
    "    self.fc = tf.keras.layers.Dense(self.output_vocab_size)"
   ]
  },
  {
   "cell_type": "code",
   "execution_count": 84,
   "id": "9fa7513f",
   "metadata": {},
   "outputs": [],
   "source": [
    "class DecoderInput(typing.NamedTuple):\n",
    "  new_tokens: Any\n",
    "  enc_output: Any\n",
    "  mask: Any\n",
    "\n",
    "class DecoderOutput(typing.NamedTuple):\n",
    "  logits: Any\n",
    "  attention_weights: Any"
   ]
  },
  {
   "cell_type": "code",
   "execution_count": 85,
   "id": "262d88ba",
   "metadata": {},
   "outputs": [],
   "source": [
    "def call(self,\n",
    "         inputs: DecoderInput,\n",
    "         state=None) -> Tuple[DecoderOutput, tf.Tensor]:\n",
    "  shape_checker = ShapeChecker()\n",
    "  shape_checker(inputs.new_tokens, ('batch', 't'))\n",
    "  shape_checker(inputs.enc_output, ('batch', 's', 'enc_units'))\n",
    "  shape_checker(inputs.mask, ('batch', 's'))\n",
    "\n",
    "  if state is not None:\n",
    "    shape_checker(state, ('batch', 'dec_units'))\n",
    "\n",
    "  # Step 1. Lookup the embeddings\n",
    "  vectors = self.embedding(inputs.new_tokens)\n",
    "  shape_checker(vectors, ('batch', 't', 'embedding_dim'))\n",
    "\n",
    "  # Step 2. Process one step with the RNN\n",
    "  rnn_output, state = self.gru(vectors, initial_state=state)\n",
    "\n",
    "  shape_checker(rnn_output, ('batch', 't', 'dec_units'))\n",
    "  shape_checker(state, ('batch', 'dec_units'))\n",
    "\n",
    "  # Step 3. Use the RNN output as the query for the attention over the\n",
    "  # encoder output.\n",
    "  context_vector, attention_weights = self.attention(\n",
    "      query=rnn_output, value=inputs.enc_output, mask=inputs.mask)\n",
    "  shape_checker(context_vector, ('batch', 't', 'dec_units'))\n",
    "  shape_checker(attention_weights, ('batch', 't', 's'))\n",
    "\n",
    "  # Step 4. Eqn. (3): Join the context_vector and rnn_output\n",
    "  #     [ct; ht] shape: (batch t, value_units + query_units)\n",
    "  context_and_rnn_output = tf.concat([context_vector, rnn_output], axis=-1)\n",
    "\n",
    "  # Step 4. Eqn. (3): `at = tanh(Wc@[ct; ht])`\n",
    "  attention_vector = self.Wc(context_and_rnn_output)\n",
    "  shape_checker(attention_vector, ('batch', 't', 'dec_units'))\n",
    "\n",
    "  # Step 5. Generate logit predictions:\n",
    "  logits = self.fc(attention_vector)\n",
    "  shape_checker(logits, ('batch', 't', 'output_vocab_size'))\n",
    "\n",
    "  return DecoderOutput(logits, attention_weights), state"
   ]
  },
  {
   "cell_type": "code",
   "execution_count": 86,
   "id": "0645ac8b",
   "metadata": {},
   "outputs": [],
   "source": [
    "Decoder.call = call\n",
    "decoder = Decoder(output_text_processor.vocabulary_size(),\n",
    "                  embedding_dim, units)"
   ]
  },
  {
   "cell_type": "code",
   "execution_count": 87,
   "id": "e42c6fcb",
   "metadata": {},
   "outputs": [],
   "source": [
    "# Convert the target sequence, and collect the \"[START]\" tokens\n",
    "example_output_tokens = output_text_processor(example_target_batch)\n",
    "\n",
    "start_index = output_text_processor.get_vocabulary().index('[START]')\n",
    "first_token = tf.constant([[start_index]] * example_output_tokens.shape[0])"
   ]
  },
  {
   "cell_type": "code",
   "execution_count": 88,
   "id": "24fab5d6",
   "metadata": {},
   "outputs": [
    {
     "name": "stdout",
     "output_type": "stream",
     "text": [
      "logits shape: (batch_size, t, output_vocab_size) (64, 1, 50)\n",
      "state shape: (batch_size, dec_units) (64, 1024)\n"
     ]
    }
   ],
   "source": [
    "# Run the decoder\n",
    "dec_result, dec_state = decoder(\n",
    "    inputs = DecoderInput(new_tokens=first_token,\n",
    "                          enc_output=example_enc_output,\n",
    "                          mask=(example_tokens != 0)),\n",
    "    state = example_enc_state\n",
    ")\n",
    "\n",
    "print(f'logits shape: (batch_size, t, output_vocab_size) {dec_result.logits.shape}')\n",
    "print(f'state shape: (batch_size, dec_units) {dec_state.shape}')"
   ]
  },
  {
   "cell_type": "code",
   "execution_count": 89,
   "id": "ce757472",
   "metadata": {},
   "outputs": [],
   "source": [
    "sampled_token = tf.random.categorical(dec_result.logits[:, 0, :], num_samples=1)"
   ]
  },
  {
   "cell_type": "code",
   "execution_count": 90,
   "id": "08a0c44c",
   "metadata": {},
   "outputs": [
    {
     "data": {
      "text/plain": [
       "array([['M'],\n",
       "       ['e'],\n",
       "       ['L'],\n",
       "       ['_'],\n",
       "       ['G']], dtype='<U7')"
      ]
     },
     "execution_count": 90,
     "metadata": {},
     "output_type": "execute_result"
    }
   ],
   "source": [
    "vocab = np.array(output_text_processor.get_vocabulary())\n",
    "first_word = vocab[sampled_token.numpy()]\n",
    "first_word[:5]"
   ]
  },
  {
   "cell_type": "code",
   "execution_count": 91,
   "id": "ae6bacd8",
   "metadata": {},
   "outputs": [
    {
     "data": {
      "text/plain": [
       "array([['y'],\n",
       "       ['s'],\n",
       "       ['[END]'],\n",
       "       ['I'],\n",
       "       ['h']], dtype='<U7')"
      ]
     },
     "execution_count": 91,
     "metadata": {},
     "output_type": "execute_result"
    }
   ],
   "source": [
    "dec_result, dec_state = decoder(\n",
    "    DecoderInput(sampled_token,\n",
    "                 example_enc_output,\n",
    "                 mask=(example_tokens != 0)),\n",
    "    state=dec_state)\n",
    "sampled_token = tf.random.categorical(dec_result.logits[:, 0, :], num_samples=1)\n",
    "first_word = vocab[sampled_token.numpy()]\n",
    "first_word[:5]"
   ]
  },
  {
   "cell_type": "code",
   "execution_count": 92,
   "id": "eafa2667",
   "metadata": {},
   "outputs": [],
   "source": [
    "class MaskedLoss(tf.keras.losses.Loss):\n",
    "  def __init__(self):\n",
    "    self.name = 'masked_loss'\n",
    "    self.loss = tf.keras.losses.SparseCategoricalCrossentropy(\n",
    "        from_logits=True, reduction='none')\n",
    "\n",
    "  def __call__(self, y_true, y_pred):\n",
    "    shape_checker = ShapeChecker()\n",
    "    shape_checker(y_true, ('batch', 't'))\n",
    "    shape_checker(y_pred, ('batch', 't', 'logits'))\n",
    "\n",
    "    # Calculate the loss for each item in the batch.\n",
    "    loss = self.loss(y_true, y_pred)\n",
    "    shape_checker(loss, ('batch', 't'))\n",
    "\n",
    "    # Mask off the losses on padding.\n",
    "    mask = tf.cast(y_true != 0, tf.float32)\n",
    "    shape_checker(mask, ('batch', 't'))\n",
    "    loss *= mask\n",
    "\n",
    "    # Return the total.\n",
    "    return tf.reduce_sum(loss)"
   ]
  },
  {
   "cell_type": "code",
   "execution_count": 93,
   "id": "a624cb1d",
   "metadata": {},
   "outputs": [],
   "source": [
    "class TrainTranslator(tf.keras.Model):\n",
    "  def __init__(self, embedding_dim, units,\n",
    "               input_text_processor,\n",
    "               output_text_processor, \n",
    "               use_tf_function=True):\n",
    "    super().__init__()\n",
    "    # Build the encoder and decoder\n",
    "    encoder = Encoder(input_text_processor.vocabulary_size(),\n",
    "                      embedding_dim, units)\n",
    "    decoder = Decoder(output_text_processor.vocabulary_size(),\n",
    "                      embedding_dim, units)\n",
    "\n",
    "    self.encoder = encoder\n",
    "    self.decoder = decoder\n",
    "    self.input_text_processor = input_text_processor\n",
    "    self.output_text_processor = output_text_processor\n",
    "    self.use_tf_function = use_tf_function\n",
    "    self.shape_checker = ShapeChecker()\n",
    "\n",
    "  def train_step(self, inputs):\n",
    "    self.shape_checker = ShapeChecker()\n",
    "    if self.use_tf_function:\n",
    "      return self._tf_train_step(inputs)\n",
    "    else:\n",
    "      return self._train_step(inputs)"
   ]
  },
  {
   "cell_type": "code",
   "execution_count": 94,
   "id": "b8952852",
   "metadata": {},
   "outputs": [],
   "source": [
    "def _preprocess(self, input_text, target_text):\n",
    "  self.shape_checker(input_text, ('batch',))\n",
    "  self.shape_checker(target_text, ('batch',))\n",
    "\n",
    "  # Convert the text to token IDs\n",
    "  input_tokens = self.input_text_processor(input_text)\n",
    "  target_tokens = self.output_text_processor(target_text)\n",
    "  self.shape_checker(input_tokens, ('batch', 's'))\n",
    "  self.shape_checker(target_tokens, ('batch', 't'))\n",
    "\n",
    "  # Convert IDs to masks.\n",
    "  input_mask = input_tokens != 0\n",
    "  self.shape_checker(input_mask, ('batch', 's'))\n",
    "\n",
    "  target_mask = target_tokens != 0\n",
    "  self.shape_checker(target_mask, ('batch', 't'))\n",
    "\n",
    "  return input_tokens, input_mask, target_tokens, target_mask"
   ]
  },
  {
   "cell_type": "code",
   "execution_count": 95,
   "id": "0fe9341c",
   "metadata": {},
   "outputs": [],
   "source": [
    "TrainTranslator._preprocess = _preprocess"
   ]
  },
  {
   "cell_type": "code",
   "execution_count": 96,
   "id": "0695cedf",
   "metadata": {},
   "outputs": [],
   "source": [
    "def _train_step(self, inputs):\n",
    "  input_text, target_text = inputs  \n",
    "\n",
    "  (input_tokens, input_mask,\n",
    "   target_tokens, target_mask) = self._preprocess(input_text, target_text)\n",
    "\n",
    "  max_target_length = tf.shape(target_tokens)[1]\n",
    "\n",
    "  with tf.GradientTape() as tape:\n",
    "    # Encode the input\n",
    "    enc_output, enc_state = self.encoder(input_tokens)\n",
    "    self.shape_checker(enc_output, ('batch', 's', 'enc_units'))\n",
    "    self.shape_checker(enc_state, ('batch', 'enc_units'))\n",
    "\n",
    "    # Initialize the decoder's state to the encoder's final state.\n",
    "    # This only works if the encoder and decoder have the same number of\n",
    "    # units.\n",
    "    dec_state = enc_state\n",
    "    loss = tf.constant(0.0)\n",
    "\n",
    "    for t in tf.range(max_target_length-1):\n",
    "      # Pass in two tokens from the target sequence:\n",
    "      # 1. The current input to the decoder.\n",
    "      # 2. The target for the decoder's next prediction.\n",
    "      new_tokens = target_tokens[:, t:t+2]\n",
    "      step_loss, dec_state = self._loop_step(new_tokens, input_mask,\n",
    "                                             enc_output, dec_state)\n",
    "      loss = loss + step_loss\n",
    "\n",
    "    # Average the loss over all non padding tokens.\n",
    "    average_loss = loss / tf.reduce_sum(tf.cast(target_mask, tf.float32))\n",
    "\n",
    "  # Apply an optimization step\n",
    "  variables = self.trainable_variables \n",
    "  gradients = tape.gradient(average_loss, variables)\n",
    "  self.optimizer.apply_gradients(zip(gradients, variables))\n",
    "\n",
    "  # Return a dict mapping metric names to current value\n",
    "  return {'batch_loss': average_loss}"
   ]
  },
  {
   "cell_type": "code",
   "execution_count": 97,
   "id": "00a099b2",
   "metadata": {},
   "outputs": [],
   "source": [
    "TrainTranslator._train_step = _train_step"
   ]
  },
  {
   "cell_type": "code",
   "execution_count": 98,
   "id": "7a87544b",
   "metadata": {},
   "outputs": [],
   "source": [
    "def _loop_step(self, new_tokens, input_mask, enc_output, dec_state):\n",
    "  input_token, target_token = new_tokens[:, 0:1], new_tokens[:, 1:2]\n",
    "\n",
    "  # Run the decoder one step.\n",
    "  decoder_input = DecoderInput(new_tokens=input_token,\n",
    "                               enc_output=enc_output,\n",
    "                               mask=input_mask)\n",
    "\n",
    "  dec_result, dec_state = self.decoder(decoder_input, state=dec_state)\n",
    "  self.shape_checker(dec_result.logits, ('batch', 't1', 'logits'))\n",
    "  self.shape_checker(dec_result.attention_weights, ('batch', 't1', 's'))\n",
    "  self.shape_checker(dec_state, ('batch', 'dec_units'))\n",
    "\n",
    "  # `self.loss` returns the total for non-padded tokens\n",
    "  y = target_token\n",
    "  y_pred = dec_result.logits\n",
    "  step_loss = self.loss(y, y_pred)\n",
    "\n",
    "  return step_loss, dec_state"
   ]
  },
  {
   "cell_type": "code",
   "execution_count": 99,
   "id": "c3396426",
   "metadata": {},
   "outputs": [],
   "source": [
    "TrainTranslator._loop_step = _loop_step"
   ]
  },
  {
   "cell_type": "code",
   "execution_count": 100,
   "id": "551902f2",
   "metadata": {},
   "outputs": [],
   "source": [
    "translator = TrainTranslator(\n",
    "    embedding_dim, units,\n",
    "    input_text_processor=input_text_processor,\n",
    "    output_text_processor=output_text_processor,\n",
    "    use_tf_function=False)\n",
    "\n",
    "# Configure the loss and optimizer\n",
    "translator.compile(\n",
    "    optimizer=tf.optimizers.Adam(),\n",
    "    loss=MaskedLoss(),\n",
    ")"
   ]
  },
  {
   "cell_type": "code",
   "execution_count": 101,
   "id": "a22a4a3d",
   "metadata": {},
   "outputs": [
    {
     "data": {
      "text/plain": [
       "3.912023005428146"
      ]
     },
     "execution_count": 101,
     "metadata": {},
     "output_type": "execute_result"
    }
   ],
   "source": [
    "np.log(output_text_processor.vocabulary_size())"
   ]
  },
  {
   "cell_type": "code",
   "execution_count": 102,
   "id": "d6611475",
   "metadata": {},
   "outputs": [
    {
     "name": "stdout",
     "output_type": "stream",
     "text": [
      "{'batch_loss': <tf.Tensor: shape=(), dtype=float32, numpy=3.5458527>}\n",
      "{'batch_loss': <tf.Tensor: shape=(), dtype=float32, numpy=3.4596276>}\n",
      "{'batch_loss': <tf.Tensor: shape=(), dtype=float32, numpy=3.2795582>}\n",
      "{'batch_loss': <tf.Tensor: shape=(), dtype=float32, numpy=2.859396>}\n",
      "{'batch_loss': <tf.Tensor: shape=(), dtype=float32, numpy=3.1948225>}\n",
      "{'batch_loss': <tf.Tensor: shape=(), dtype=float32, numpy=2.6683044>}\n",
      "{'batch_loss': <tf.Tensor: shape=(), dtype=float32, numpy=2.6687286>}\n",
      "{'batch_loss': <tf.Tensor: shape=(), dtype=float32, numpy=2.6833105>}\n",
      "{'batch_loss': <tf.Tensor: shape=(), dtype=float32, numpy=2.6600158>}\n",
      "{'batch_loss': <tf.Tensor: shape=(), dtype=float32, numpy=2.609998>}\n",
      "\n",
      "CPU times: user 1min 15s, sys: 19.3 s, total: 1min 34s\n",
      "Wall time: 23.7 s\n"
     ]
    }
   ],
   "source": [
    "%%time\n",
    "for n in range(10):\n",
    "  print(translator.train_step([example_input_batch, example_target_batch]))\n",
    "print()"
   ]
  },
  {
   "cell_type": "code",
   "execution_count": 103,
   "id": "d6179dcc",
   "metadata": {},
   "outputs": [],
   "source": [
    "@tf.function(input_signature=[[tf.TensorSpec(dtype=tf.string, shape=[None]),\n",
    "                               tf.TensorSpec(dtype=tf.string, shape=[None])]])\n",
    "def _tf_train_step(self, inputs):\n",
    "  return self._train_step(inputs)"
   ]
  },
  {
   "cell_type": "code",
   "execution_count": 104,
   "id": "743ebce9",
   "metadata": {},
   "outputs": [
    {
     "data": {
      "text/plain": [
       "{'batch_loss': <tf.Tensor: shape=(), dtype=float32, numpy=2.5609095>}"
      ]
     },
     "execution_count": 104,
     "metadata": {},
     "output_type": "execute_result"
    }
   ],
   "source": [
    "TrainTranslator._tf_train_step = _tf_train_step\n",
    "translator.use_tf_function = True\n",
    "translator.train_step([example_input_batch, example_target_batch])"
   ]
  },
  {
   "cell_type": "code",
   "execution_count": 105,
   "id": "58b1b04c",
   "metadata": {},
   "outputs": [
    {
     "name": "stdout",
     "output_type": "stream",
     "text": [
      "{'batch_loss': <tf.Tensor: shape=(), dtype=float32, numpy=2.4683874>}\n",
      "{'batch_loss': <tf.Tensor: shape=(), dtype=float32, numpy=2.4264956>}\n",
      "{'batch_loss': <tf.Tensor: shape=(), dtype=float32, numpy=2.4266927>}\n",
      "{'batch_loss': <tf.Tensor: shape=(), dtype=float32, numpy=2.3702674>}\n",
      "{'batch_loss': <tf.Tensor: shape=(), dtype=float32, numpy=2.3607104>}\n",
      "{'batch_loss': <tf.Tensor: shape=(), dtype=float32, numpy=2.3285246>}\n",
      "{'batch_loss': <tf.Tensor: shape=(), dtype=float32, numpy=2.3160305>}\n",
      "{'batch_loss': <tf.Tensor: shape=(), dtype=float32, numpy=2.2620847>}\n",
      "{'batch_loss': <tf.Tensor: shape=(), dtype=float32, numpy=2.2554522>}\n",
      "{'batch_loss': <tf.Tensor: shape=(), dtype=float32, numpy=2.2213178>}\n",
      "\n",
      "CPU times: user 1min 17s, sys: 9.21 s, total: 1min 27s\n",
      "Wall time: 15.2 s\n"
     ]
    }
   ],
   "source": [
    "%%time\n",
    "for n in range(10):\n",
    "  print(translator.train_step([example_input_batch, example_target_batch]))\n",
    "print()"
   ]
  },
  {
   "cell_type": "code",
   "execution_count": 106,
   "id": "ea656a3a",
   "metadata": {},
   "outputs": [
    {
     "name": "stdout",
     "output_type": "stream",
     "text": [
      "....................................................................................................\n"
     ]
    },
    {
     "data": {
      "text/plain": [
       "[<matplotlib.lines.Line2D at 0x7ff0368a80d0>]"
      ]
     },
     "execution_count": 106,
     "metadata": {},
     "output_type": "execute_result"
    },
    {
     "data": {
      "image/png": "[encoded data removed]",
      "text/plain": [
       "<Figure size 432x288 with 1 Axes>"
      ]
     },
     "metadata": {
      "needs_background": "light"
     },
     "output_type": "display_data"
    }
   ],
   "source": [
    "losses = []\n",
    "for n in range(100):\n",
    "  print('.', end='')\n",
    "  logs = translator.train_step([example_input_batch, example_target_batch])\n",
    "  losses.append(logs['batch_loss'].numpy())\n",
    "\n",
    "print()\n",
    "plt.plot(losses)"
   ]
  },
  {
   "cell_type": "code",
   "execution_count": 107,
   "id": "dd0d273d",
   "metadata": {},
   "outputs": [],
   "source": [
    "train_translator = TrainTranslator(\n",
    "    embedding_dim, units,\n",
    "    input_text_processor=input_text_processor,\n",
    "    output_text_processor=output_text_processor)\n",
    "\n",
    "# Configure the loss and optimizer\n",
    "train_translator.compile(\n",
    "    optimizer=tf.optimizers.Adam(),\n",
    "    loss=MaskedLoss(),\n",
    ")"
   ]
  },
  {
   "cell_type": "code",
   "execution_count": 108,
   "id": "e80a3401",
   "metadata": {},
   "outputs": [],
   "source": [
    "class BatchLogs(tf.keras.callbacks.Callback):\n",
    "  def __init__(self, key):\n",
    "    self.key = key\n",
    "    self.logs = []\n",
    "\n",
    "  def on_train_batch_end(self, n, logs):\n",
    "    self.logs.append(logs[self.key])\n",
    "\n",
    "batch_loss = BatchLogs('batch_loss')"
   ]
  },
  {
   "cell_type": "code",
   "execution_count": 109,
   "id": "384e67c4",
   "metadata": {},
   "outputs": [
    {
     "name": "stdout",
     "output_type": "stream",
     "text": [
      "Epoch 1/10\n",
      "617/617 [==============================] - 742s 1s/step - batch_loss: 1.0428\n",
      "Epoch 2/10\n",
      "617/617 [==============================] - 742s 1s/step - batch_loss: 0.4213\n",
      "Epoch 3/10\n",
      "617/617 [==============================] - 745s 1s/step - batch_loss: 0.2971\n",
      "Epoch 4/10\n",
      "617/617 [==============================] - 745s 1s/step - batch_loss: 0.2303\n",
      "Epoch 5/10\n",
      "617/617 [==============================] - 746s 1s/step - batch_loss: 0.1856\n",
      "Epoch 6/10\n",
      "617/617 [==============================] - 745s 1s/step - batch_loss: 0.1538\n",
      "Epoch 7/10\n",
      "617/617 [==============================] - 751s 1s/step - batch_loss: 0.1291\n",
      "Epoch 8/10\n",
      "617/617 [==============================] - 752s 1s/step - batch_loss: 0.1108\n",
      "Epoch 9/10\n",
      "617/617 [==============================] - 752s 1s/step - batch_loss: 0.0954\n",
      "Epoch 10/10\n",
      "617/617 [==============================] - 750s 1s/step - batch_loss: 0.0841\n"
     ]
    },
    {
     "data": {
      "text/plain": [
       "<keras.callbacks.History at 0x7ff0358a9e50>"
      ]
     },
     "execution_count": 109,
     "metadata": {},
     "output_type": "execute_result"
    }
   ],
   "source": [
    "train_translator.fit(dataset, epochs=10,\n",
    "                     callbacks=[batch_loss])"
   ]
  },
  {
   "cell_type": "code",
   "execution_count": 110,
   "id": "1d42a5ca",
   "metadata": {},
   "outputs": [
    {
     "data": {
      "text/plain": [
       "Text(0, 0.5, 'CE/token')"
      ]
     },
     "execution_count": 110,
     "metadata": {},
     "output_type": "execute_result"
    },
    {
     "data": {
      "image/png": "[encoded data removed]",
      "text/plain": [
       "<Figure size 432x288 with 1 Axes>"
      ]
     },
     "metadata": {
      "needs_background": "light"
     },
     "output_type": "display_data"
    }
   ],
   "source": [
    "plt.plot(batch_loss.logs)\n",
    "plt.ylim([0, 3])\n",
    "plt.xlabel('Batch #')\n",
    "plt.ylabel('CE/token')"
   ]
  },
  {
   "cell_type": "code",
   "execution_count": 111,
   "id": "067afab9",
   "metadata": {},
   "outputs": [],
   "source": [
    "class Translator(tf.Module):\n",
    "\n",
    "  def __init__(self, encoder, decoder, input_text_processor,\n",
    "               output_text_processor):\n",
    "    self.encoder = encoder\n",
    "    self.decoder = decoder\n",
    "    self.input_text_processor = input_text_processor\n",
    "    self.output_text_processor = output_text_processor\n",
    "\n",
    "    self.output_token_string_from_index = (\n",
    "        tf.keras.layers.StringLookup(\n",
    "            vocabulary=output_text_processor.get_vocabulary(),\n",
    "            mask_token='',\n",
    "            invert=True))\n",
    "\n",
    "    # The output should never generate padding, unknown, or start.\n",
    "    index_from_string = tf.keras.layers.StringLookup(\n",
    "        vocabulary=output_text_processor.get_vocabulary(), mask_token='')\n",
    "    token_mask_ids = index_from_string(['', '[UNK]', '[START]']).numpy()\n",
    "\n",
    "    token_mask = np.zeros([index_from_string.vocabulary_size()], dtype=np.bool)\n",
    "    token_mask[np.array(token_mask_ids)] = True\n",
    "    self.token_mask = token_mask\n",
    "\n",
    "    self.start_token = index_from_string(tf.constant('[START]'))\n",
    "    self.end_token = index_from_string(tf.constant('[END]'))"
   ]
  },
  {
   "cell_type": "code",
   "execution_count": 112,
   "id": "79a19f97",
   "metadata": {},
   "outputs": [
    {
     "name": "stderr",
     "output_type": "stream",
     "text": [
      "/var/folders/yr/_5d8vnxd6z58c56nmqh8nykw0000gn/T/ipykernel_5023/100404259.py:21: DeprecationWarning: `np.bool` is a deprecated alias for the builtin `bool`. To silence this warning, use `bool` by itself. Doing this will not modify any behavior and is safe. If you specifically wanted the numpy scalar type, use `np.bool_` here.\n",
      "Deprecated in NumPy 1.20; for more details and guidance: https://numpy.org/devdocs/release/1.20.0-notes.html#deprecations\n",
      "  token_mask = np.zeros([index_from_string.vocabulary_size()], dtype=np.bool)\n"
     ]
    }
   ],
   "source": [
    "translator = Translator(\n",
    "    encoder=train_translator.encoder,\n",
    "    decoder=train_translator.decoder,\n",
    "    input_text_processor=input_text_processor,\n",
    "    output_text_processor=output_text_processor,\n",
    ")"
   ]
  },
  {
   "cell_type": "code",
   "execution_count": 113,
   "id": "baaddf0f",
   "metadata": {},
   "outputs": [],
   "source": [
    "def tokens_to_text(self, result_tokens):\n",
    "  shape_checker = ShapeChecker()\n",
    "  shape_checker(result_tokens, ('batch', 't'))\n",
    "  result_text_tokens = self.output_token_string_from_index(result_tokens)\n",
    "  shape_checker(result_text_tokens, ('batch', 't'))\n",
    "\n",
    "  result_text = tf.strings.reduce_join(result_text_tokens,\n",
    "                                       axis=1, separator=' ')\n",
    "  shape_checker(result_text, ('batch'))\n",
    "\n",
    "  result_text = tf.strings.strip(result_text)\n",
    "  shape_checker(result_text, ('batch',))\n",
    "  return result_text"
   ]
  },
  {
   "cell_type": "code",
   "execution_count": 114,
   "id": "3dc5a33b",
   "metadata": {},
   "outputs": [],
   "source": [
    "Translator.tokens_to_text = tokens_to_text"
   ]
  },
  {
   "cell_type": "code",
   "execution_count": 115,
   "id": "26217803",
   "metadata": {},
   "outputs": [
    {
     "data": {
      "text/plain": [
       "array([b'G G', b'T n', b'I m', b'g g', b'q F'], dtype=object)"
      ]
     },
     "execution_count": 115,
     "metadata": {},
     "output_type": "execute_result"
    }
   ],
   "source": [
    "example_output_tokens = tf.random.uniform(\n",
    "    shape=[5, 2], minval=0, dtype=tf.int64,\n",
    "    maxval=output_text_processor.vocabulary_size())\n",
    "translator.tokens_to_text(example_output_tokens).numpy()"
   ]
  },
  {
   "cell_type": "code",
   "execution_count": 116,
   "id": "ee398862",
   "metadata": {},
   "outputs": [],
   "source": [
    "def sample(self, logits, temperature):\n",
    "  shape_checker = ShapeChecker()\n",
    "  # 't' is usually 1 here.\n",
    "  shape_checker(logits, ('batch', 't', 'vocab'))\n",
    "  shape_checker(self.token_mask, ('vocab',))\n",
    "\n",
    "  token_mask = self.token_mask[tf.newaxis, tf.newaxis, :]\n",
    "  shape_checker(token_mask, ('batch', 't', 'vocab'), broadcast=True)\n",
    "\n",
    "  # Set the logits for all masked tokens to -inf, so they are never chosen.\n",
    "  logits = tf.where(self.token_mask, -np.inf, logits)\n",
    "\n",
    "  if temperature == 0.0:\n",
    "    new_tokens = tf.argmax(logits, axis=-1)\n",
    "  else: \n",
    "    logits = tf.squeeze(logits, axis=1)\n",
    "    new_tokens = tf.random.categorical(logits/temperature,\n",
    "                                        num_samples=1)\n",
    "  \n",
    "  shape_checker(new_tokens, ('batch', 't'))\n",
    "\n",
    "  return new_tokens"
   ]
  },
  {
   "cell_type": "code",
   "execution_count": 117,
   "id": "fff5e85c",
   "metadata": {},
   "outputs": [],
   "source": [
    "Translator.sample = sample"
   ]
  },
  {
   "cell_type": "code",
   "execution_count": 118,
   "id": "294a9086",
   "metadata": {},
   "outputs": [
    {
     "data": {
      "text/plain": [
       "<tf.Tensor: shape=(5, 1), dtype=int64, numpy=\n",
       "array([[ 2],\n",
       "       [33],\n",
       "       [12],\n",
       "       [18],\n",
       "       [12]])>"
      ]
     },
     "execution_count": 118,
     "metadata": {},
     "output_type": "execute_result"
    }
   ],
   "source": [
    "example_logits = tf.random.normal([5, 1, output_text_processor.vocabulary_size()])\n",
    "example_output_tokens = translator.sample(example_logits, temperature=1.0)\n",
    "example_output_tokens"
   ]
  },
  {
   "cell_type": "code",
   "execution_count": 119,
   "id": "29de1c74",
   "metadata": {},
   "outputs": [],
   "source": [
    "def translate_unrolled(self,\n",
    "                       input_text, *,\n",
    "                       max_length=50,\n",
    "                       return_attention=True,\n",
    "                       temperature=1.0):\n",
    "  batch_size = tf.shape(input_text)[0]\n",
    "  input_tokens = self.input_text_processor(input_text)\n",
    "  enc_output, enc_state = self.encoder(input_tokens)\n",
    "\n",
    "  dec_state = enc_state\n",
    "  new_tokens = tf.fill([batch_size, 1], self.start_token)\n",
    "\n",
    "  result_tokens = []\n",
    "  attention = []\n",
    "  done = tf.zeros([batch_size, 1], dtype=tf.bool)\n",
    "\n",
    "  for _ in range(max_length):\n",
    "    dec_input = DecoderInput(new_tokens=new_tokens,\n",
    "                             enc_output=enc_output,\n",
    "                             mask=(input_tokens!=0))\n",
    "    \n",
    "    dec_result, dec_state = self.decoder(dec_input, state=dec_state)\n",
    "\n",
    "    attention.append(dec_result.attention_weights)\n",
    "\n",
    "    new_tokens = self.sample(dec_result.logits, temperature)\n",
    "\n",
    "    # If a sequence produces an `end_token`, set it `done`\n",
    "    done = done | (new_tokens == self.end_token)\n",
    "    # Once a sequence is done it only produces 0-padding.\n",
    "    new_tokens = tf.where(done, tf.constant(0, dtype=tf.int64), new_tokens)\n",
    "\n",
    "    # Collect the generated tokens\n",
    "    result_tokens.append(new_tokens)\n",
    "\n",
    "    if tf.executing_eagerly() and tf.reduce_all(done):\n",
    "      break\n",
    "\n",
    "  # Convert the list of generates token ids to a list of strings.\n",
    "  result_tokens = tf.concat(result_tokens, axis=-1)\n",
    "  result_text = self.tokens_to_text(result_tokens)\n",
    "\n",
    "  if return_attention:\n",
    "    attention_stack = tf.concat(attention, axis=1)\n",
    "    return {'text': result_text, 'attention': attention_stack}\n",
    "  else:\n",
    "    return {'text': result_text}\n"
   ]
  },
  {
   "cell_type": "code",
   "execution_count": 120,
   "id": "250b1463",
   "metadata": {},
   "outputs": [],
   "source": [
    "Translator.translate = translate_unrolled"
   ]
  },
  {
   "cell_type": "code",
   "execution_count": 121,
   "id": "e78a09e6",
   "metadata": {},
   "outputs": [
    {
     "name": "stdout",
     "output_type": "stream",
     "text": [
      "b e n e f i t s\n",
      "l o w\n",
      "\n",
      "CPU times: user 494 ms, sys: 27.9 ms, total: 522 ms\n",
      "Wall time: 301 ms\n"
     ]
    }
   ],
   "source": [
    "%%time\n",
    "input_text = tf.constant([\n",
    "    'b e n e f o t', # \"It's really cold here.\"\n",
    "    'l o w e', # \"This is my life.\"\"\n",
    "])\n",
    "\n",
    "result = translator.translate(\n",
    "    input_text = input_text)\n",
    "\n",
    "print(result['text'][0].numpy().decode())\n",
    "print(result['text'][1].numpy().decode())\n",
    "print()"
   ]
  },
  {
   "cell_type": "code",
   "execution_count": 122,
   "id": "6ec9fcaa",
   "metadata": {},
   "outputs": [],
   "source": [
    "@tf.function(input_signature=[tf.TensorSpec(dtype=tf.string, shape=[None])])\n",
    "def tf_translate(self, input_text):\n",
    "  return self.translate(input_text)\n",
    "\n",
    "Translator.tf_translate = tf_translate"
   ]
  },
  {
   "cell_type": "code",
   "execution_count": 123,
   "id": "ebbfc364",
   "metadata": {},
   "outputs": [
    {
     "name": "stdout",
     "output_type": "stream",
     "text": [
      "CPU times: user 17.2 s, sys: 486 ms, total: 17.7 s\n",
      "Wall time: 17 s\n"
     ]
    }
   ],
   "source": [
    "%%time\n",
    "result = translator.tf_translate(\n",
    "    input_text = input_text)"
   ]
  },
  {
   "cell_type": "code",
   "execution_count": 124,
   "id": "90e1837a",
   "metadata": {},
   "outputs": [
    {
     "name": "stdout",
     "output_type": "stream",
     "text": [
      "b e n e f i t\n",
      "l o w\n",
      "\n",
      "CPU times: user 392 ms, sys: 38.5 ms, total: 431 ms\n",
      "Wall time: 89.1 ms\n"
     ]
    }
   ],
   "source": [
    "%%time\n",
    "result = translator.tf_translate(\n",
    "    input_text = input_text)\n",
    "\n",
    "print(result['text'][0].numpy().decode())\n",
    "print(result['text'][1].numpy().decode())\n",
    "print()"
   ]
  },
  {
   "cell_type": "code",
   "execution_count": 125,
   "id": "cf1f6f3e",
   "metadata": {},
   "outputs": [],
   "source": [
    "#@title [Optional] Use a symbolic loop\n",
    "def translate_symbolic(self,\n",
    "                       input_text,\n",
    "                       *,\n",
    "                       max_length=50,\n",
    "                       return_attention=True,\n",
    "                       temperature=1.0):\n",
    "  shape_checker = ShapeChecker()\n",
    "  shape_checker(input_text, ('batch',))\n",
    "\n",
    "  batch_size = tf.shape(input_text)[0]\n",
    "\n",
    "  # Encode the input\n",
    "  input_tokens = self.input_text_processor(input_text)\n",
    "  shape_checker(input_tokens, ('batch', 's'))\n",
    "\n",
    "  enc_output, enc_state = self.encoder(input_tokens)\n",
    "  shape_checker(enc_output, ('batch', 's', 'enc_units'))\n",
    "  shape_checker(enc_state, ('batch', 'enc_units'))\n",
    "\n",
    "  # Initialize the decoder\n",
    "  dec_state = enc_state\n",
    "  new_tokens = tf.fill([batch_size, 1], self.start_token)\n",
    "  shape_checker(new_tokens, ('batch', 't1'))\n",
    "\n",
    "  # Initialize the accumulators\n",
    "  result_tokens = tf.TensorArray(tf.int64, size=1, dynamic_size=True)\n",
    "  attention = tf.TensorArray(tf.float32, size=1, dynamic_size=True)\n",
    "  done = tf.zeros([batch_size, 1], dtype=tf.bool)\n",
    "  shape_checker(done, ('batch', 't1'))\n",
    "\n",
    "  for t in tf.range(max_length):\n",
    "    dec_input = DecoderInput(\n",
    "        new_tokens=new_tokens, enc_output=enc_output, mask=(input_tokens != 0))\n",
    "\n",
    "    dec_result, dec_state = self.decoder(dec_input, state=dec_state)\n",
    "\n",
    "    shape_checker(dec_result.attention_weights, ('batch', 't1', 's'))\n",
    "    attention = attention.write(t, dec_result.attention_weights)\n",
    "\n",
    "    new_tokens = self.sample(dec_result.logits, temperature)\n",
    "    shape_checker(dec_result.logits, ('batch', 't1', 'vocab'))\n",
    "    shape_checker(new_tokens, ('batch', 't1'))\n",
    "\n",
    "    # If a sequence produces an `end_token`, set it `done`\n",
    "    done = done | (new_tokens == self.end_token)\n",
    "    # Once a sequence is done it only produces 0-padding.\n",
    "    new_tokens = tf.where(done, tf.constant(0, dtype=tf.int64), new_tokens)\n",
    "\n",
    "    # Collect the generated tokens\n",
    "    result_tokens = result_tokens.write(t, new_tokens)\n",
    "\n",
    "    if tf.reduce_all(done):\n",
    "      break\n",
    "\n",
    "  # Convert the list of generated token ids to a list of strings.\n",
    "  result_tokens = result_tokens.stack()\n",
    "  shape_checker(result_tokens, ('t', 'batch', 't0'))\n",
    "  result_tokens = tf.squeeze(result_tokens, -1)\n",
    "  result_tokens = tf.transpose(result_tokens, [1, 0])\n",
    "  shape_checker(result_tokens, ('batch', 't'))\n",
    "\n",
    "  result_text = self.tokens_to_text(result_tokens)\n",
    "  shape_checker(result_text, ('batch',))\n",
    "\n",
    "  if return_attention:\n",
    "    attention_stack = attention.stack()\n",
    "    shape_checker(attention_stack, ('t', 'batch', 't1', 's'))\n",
    "\n",
    "    attention_stack = tf.squeeze(attention_stack, 2)\n",
    "    shape_checker(attention_stack, ('t', 'batch', 's'))\n",
    "\n",
    "    attention_stack = tf.transpose(attention_stack, [1, 0, 2])\n",
    "    shape_checker(attention_stack, ('batch', 't', 's'))\n",
    "\n",
    "    return {'text': result_text, 'attention': attention_stack}\n",
    "  else:\n",
    "    return {'text': result_text}"
   ]
  },
  {
   "cell_type": "code",
   "execution_count": 126,
   "id": "9da5f5b8",
   "metadata": {},
   "outputs": [],
   "source": [
    "Translator.translate = translate_symbolic"
   ]
  },
  {
   "cell_type": "code",
   "execution_count": 127,
   "id": "3986a1e2",
   "metadata": {},
   "outputs": [
    {
     "name": "stdout",
     "output_type": "stream",
     "text": [
      "b e n e f i t s\n",
      "l o w\n",
      "\n",
      "CPU times: user 427 ms, sys: 18.5 ms, total: 446 ms\n",
      "Wall time: 260 ms\n"
     ]
    }
   ],
   "source": [
    "%%time\n",
    "result = translator.translate(\n",
    "    input_text = input_text)\n",
    "\n",
    "print(result['text'][0].numpy().decode())\n",
    "print(result['text'][1].numpy().decode())\n",
    "print()"
   ]
  },
  {
   "cell_type": "code",
   "execution_count": 128,
   "id": "772217fc",
   "metadata": {},
   "outputs": [],
   "source": [
    "@tf.function(input_signature=[tf.TensorSpec(dtype=tf.string, shape=[None])])\n",
    "def tf_translate(self, input_text):\n",
    "  return self.translate(input_text)\n",
    "\n",
    "Translator.tf_translate = tf_translate"
   ]
  },
  {
   "cell_type": "code",
   "execution_count": 129,
   "id": "6f7256e1",
   "metadata": {},
   "outputs": [
    {
     "name": "stdout",
     "output_type": "stream",
     "text": [
      "CPU times: user 1.05 s, sys: 24.5 ms, total: 1.07 s\n",
      "Wall time: 969 ms\n"
     ]
    }
   ],
   "source": [
    "%%time\n",
    "result = translator.tf_translate(\n",
    "    input_text = input_text)"
   ]
  },
  {
   "cell_type": "code",
   "execution_count": 130,
   "id": "7ef9af2a",
   "metadata": {},
   "outputs": [
    {
     "name": "stdout",
     "output_type": "stream",
     "text": [
      "b e n e f i t\n",
      "b r o w e\n",
      "\n",
      "CPU times: user 94.5 ms, sys: 11.5 ms, total: 106 ms\n",
      "Wall time: 21.3 ms\n"
     ]
    }
   ],
   "source": [
    "%%time\n",
    "result = translator.tf_translate(\n",
    "    input_text = input_text)\n",
    "\n",
    "print(result['text'][0].numpy().decode())\n",
    "print(result['text'][1].numpy().decode())\n",
    "print()"
   ]
  },
  {
   "cell_type": "code",
   "execution_count": 131,
   "id": "57d3440f",
   "metadata": {},
   "outputs": [
    {
     "name": "stdout",
     "output_type": "stream",
     "text": [
      "[1.         1.         1.         1.         1.         1.\n",
      " 0.99999994 1.        ]\n"
     ]
    }
   ],
   "source": [
    "a = result['attention'][0]\n",
    "\n",
    "print(np.sum(a, axis=-1))"
   ]
  },
  {
   "cell_type": "code",
   "execution_count": 132,
   "id": "d820f28c",
   "metadata": {},
   "outputs": [
    {
     "data": {
      "image/png": "[encoded data removed]",
      "text/plain": [
       "<Figure size 432x288 with 1 Axes>"
      ]
     },
     "metadata": {
      "needs_background": "light"
     },
     "output_type": "display_data"
    }
   ],
   "source": [
    "_ = plt.bar(range(len(a[0, :])), a[0, :])"
   ]
  },
  {
   "cell_type": "code",
   "execution_count": 133,
   "id": "6e29e3d4",
   "metadata": {},
   "outputs": [
    {
     "data": {
      "text/plain": [
       "<matplotlib.image.AxesImage at 0x7fefddac4a00>"
      ]
     },
     "execution_count": 133,
     "metadata": {},
     "output_type": "execute_result"
    },
    {
     "data": {
      "image/png": "[encoded data removed]",
      "text/plain": [
       "<Figure size 432x288 with 1 Axes>"
      ]
     },
     "metadata": {
      "needs_background": "light"
     },
     "output_type": "display_data"
    }
   ],
   "source": [
    "plt.imshow(np.array(a), vmin=0.0)"
   ]
  },
  {
   "cell_type": "code",
   "execution_count": 134,
   "id": "aca6f4fc",
   "metadata": {},
   "outputs": [],
   "source": [
    "#@title Labeled attention plots\n",
    "def plot_attention(attention, sentence, predicted_sentence):\n",
    "  sentence = tf_lower_and_split_punct(sentence).numpy().decode().split()\n",
    "  predicted_sentence = predicted_sentence.numpy().decode().split() + ['[END]']\n",
    "  fig = plt.figure(figsize=(10, 10))\n",
    "  ax = fig.add_subplot(1, 1, 1)\n",
    "\n",
    "  attention = attention[:len(predicted_sentence), :len(sentence)]\n",
    "\n",
    "  ax.matshow(attention, cmap='viridis', vmin=0.0)\n",
    "\n",
    "  fontdict = {'fontsize': 14}\n",
    "\n",
    "  ax.set_xticklabels([''] + sentence, fontdict=fontdict, rotation=90)\n",
    "  ax.set_yticklabels([''] + predicted_sentence, fontdict=fontdict)\n",
    "\n",
    "  ax.xaxis.set_major_locator(ticker.MultipleLocator(1))\n",
    "  ax.yaxis.set_major_locator(ticker.MultipleLocator(1))\n",
    "\n",
    "  ax.set_xlabel('Input text')\n",
    "  ax.set_ylabel('Output text')\n",
    "  plt.suptitle('Attention weights')"
   ]
  },
  {
   "cell_type": "code",
   "execution_count": 135,
   "id": "5b00d055",
   "metadata": {},
   "outputs": [
    {
     "name": "stderr",
     "output_type": "stream",
     "text": [
      "/var/folders/yr/_5d8vnxd6z58c56nmqh8nykw0000gn/T/ipykernel_5023/143215515.py:14: UserWarning: FixedFormatter should only be used together with FixedLocator\n",
      "  ax.set_xticklabels([''] + sentence, fontdict=fontdict, rotation=90)\n",
      "/var/folders/yr/_5d8vnxd6z58c56nmqh8nykw0000gn/T/ipykernel_5023/143215515.py:15: UserWarning: FixedFormatter should only be used together with FixedLocator\n",
      "  ax.set_yticklabels([''] + predicted_sentence, fontdict=fontdict)\n"
     ]
    },
    {
     "data": {
      "image/png": "[encoded data removed]",
      "text/plain": [
       "<Figure size 720x720 with 1 Axes>"
      ]
     },
     "metadata": {
      "needs_background": "light"
     },
     "output_type": "display_data"
    }
   ],
   "source": [
    "i=0\n",
    "plot_attention(result['attention'][i], input_text[i], result['text'][i])"
   ]
  },
  {
   "cell_type": "code",
   "execution_count": 148,
   "id": "9fe28c18",
   "metadata": {},
   "outputs": [
    {
     "name": "stdout",
     "output_type": "stream",
     "text": [
      "h e l o e\n",
      "a n y t h i n g\n",
      "n o t h i n g\n",
      "\n",
      "CPU times: user 117 ms, sys: 26.9 ms, total: 143 ms\n",
      "Wall time: 32.6 ms\n"
     ]
    }
   ],
   "source": [
    "%%time\n",
    "three_input_text = tf.constant([\n",
    "    'h e l l w',\n",
    "    'a n y t i n g',\n",
    "    'n o t i n g',\n",
    "])\n",
    "\n",
    "result = translator.tf_translate(three_input_text)\n",
    "\n",
    "for tr in result['text']:\n",
    "  print(tr.numpy().decode())\n",
    "\n",
    "print()"
   ]
  },
  {
   "cell_type": "code",
   "execution_count": 149,
   "id": "283b31de",
   "metadata": {},
   "outputs": [
    {
     "data": {
      "text/plain": [
       "<tf.Tensor: shape=(3,), dtype=string, numpy=array([b'h e l o e', b'a n y t h i n g', b'n o t h i n g'], dtype=object)>"
      ]
     },
     "execution_count": 149,
     "metadata": {},
     "output_type": "execute_result"
    }
   ],
   "source": [
    "result['text']"
   ]
  },
  {
   "cell_type": "code",
   "execution_count": 138,
   "id": "5d7e1e11",
   "metadata": {},
   "outputs": [
    {
     "name": "stderr",
     "output_type": "stream",
     "text": [
      "/var/folders/yr/_5d8vnxd6z58c56nmqh8nykw0000gn/T/ipykernel_5023/143215515.py:14: UserWarning: FixedFormatter should only be used together with FixedLocator\n",
      "  ax.set_xticklabels([''] + sentence, fontdict=fontdict, rotation=90)\n",
      "/var/folders/yr/_5d8vnxd6z58c56nmqh8nykw0000gn/T/ipykernel_5023/143215515.py:15: UserWarning: FixedFormatter should only be used together with FixedLocator\n",
      "  ax.set_yticklabels([''] + predicted_sentence, fontdict=fontdict)\n"
     ]
    },
    {
     "data": {
      "image/png": "[encoded data removed]",
      "text/plain": [
       "<Figure size 720x720 with 1 Axes>"
      ]
     },
     "metadata": {
      "needs_background": "light"
     },
     "output_type": "display_data"
    }
   ],
   "source": [
    "i = 0\n",
    "plot_attention(result['attention'][i], three_input_text[i], result['text'][i])"
   ]
  },
  {
   "cell_type": "code",
   "execution_count": 139,
   "id": "54ae857c",
   "metadata": {},
   "outputs": [
    {
     "name": "stderr",
     "output_type": "stream",
     "text": [
      "/var/folders/yr/_5d8vnxd6z58c56nmqh8nykw0000gn/T/ipykernel_5023/143215515.py:14: UserWarning: FixedFormatter should only be used together with FixedLocator\n",
      "  ax.set_xticklabels([''] + sentence, fontdict=fontdict, rotation=90)\n",
      "/var/folders/yr/_5d8vnxd6z58c56nmqh8nykw0000gn/T/ipykernel_5023/143215515.py:15: UserWarning: FixedFormatter should only be used together with FixedLocator\n",
      "  ax.set_yticklabels([''] + predicted_sentence, fontdict=fontdict)\n"
     ]
    },
    {
     "data": {
      "image/png": "[encoded data removed]",
      "text/plain": [
       "<Figure size 720x720 with 1 Axes>"
      ]
     },
     "metadata": {
      "needs_background": "light"
     },
     "output_type": "display_data"
    }
   ],
   "source": [
    "i = 1\n",
    "plot_attention(result['attention'][i], three_input_text[i], result['text'][i])"
   ]
  },
  {
   "cell_type": "code",
   "execution_count": 140,
   "id": "d4d27a39",
   "metadata": {},
   "outputs": [
    {
     "name": "stderr",
     "output_type": "stream",
     "text": [
      "/var/folders/yr/_5d8vnxd6z58c56nmqh8nykw0000gn/T/ipykernel_5023/143215515.py:14: UserWarning: FixedFormatter should only be used together with FixedLocator\n",
      "  ax.set_xticklabels([''] + sentence, fontdict=fontdict, rotation=90)\n",
      "/var/folders/yr/_5d8vnxd6z58c56nmqh8nykw0000gn/T/ipykernel_5023/143215515.py:15: UserWarning: FixedFormatter should only be used together with FixedLocator\n",
      "  ax.set_yticklabels([''] + predicted_sentence, fontdict=fontdict)\n"
     ]
    },
    {
     "data": {
      "image/png": "[encoded data removed]",
      "text/plain": [
       "<Figure size 720x720 with 1 Axes>"
      ]
     },
     "metadata": {
      "needs_background": "light"
     },
     "output_type": "display_data"
    }
   ],
   "source": [
    "i = 2\n",
    "plot_attention(result['attention'][i], three_input_text[i], result['text'][i])"
   ]
  },
  {
   "cell_type": "code",
   "execution_count": 141,
   "id": "d9dc11ce",
   "metadata": {},
   "outputs": [
    {
     "name": "stdout",
     "output_type": "stream",
     "text": [
      "Expected output:\n",
      " y o u r\n"
     ]
    }
   ],
   "source": [
    "long_input_text = tf.constant([inp[-1]])\n",
    "\n",
    "import textwrap\n",
    "print('Expected output:\\n', '\\n'.join(textwrap.wrap(targ[-1])))"
   ]
  },
  {
   "cell_type": "code",
   "execution_count": 142,
   "id": "aed70821",
   "metadata": {},
   "outputs": [
    {
     "name": "stderr",
     "output_type": "stream",
     "text": [
      "/var/folders/yr/_5d8vnxd6z58c56nmqh8nykw0000gn/T/ipykernel_5023/143215515.py:14: UserWarning: FixedFormatter should only be used together with FixedLocator\n",
      "  ax.set_xticklabels([''] + sentence, fontdict=fontdict, rotation=90)\n",
      "/var/folders/yr/_5d8vnxd6z58c56nmqh8nykw0000gn/T/ipykernel_5023/143215515.py:15: UserWarning: FixedFormatter should only be used together with FixedLocator\n",
      "  ax.set_yticklabels([''] + predicted_sentence, fontdict=fontdict)\n"
     ]
    },
    {
     "data": {
      "image/png": "[encoded data removed]",
      "text/plain": [
       "<Figure size 720x720 with 1 Axes>"
      ]
     },
     "metadata": {
      "needs_background": "light"
     },
     "output_type": "display_data"
    }
   ],
   "source": [
    "result = translator.tf_translate(long_input_text)\n",
    "\n",
    "i = 0\n",
    "plot_attention(result['attention'][i], long_input_text[i], result['text'][i])\n",
    "_ = plt.suptitle('This never works')"
   ]
  },
  {
   "cell_type": "code",
   "execution_count": 143,
   "id": "de92f70b",
   "metadata": {},
   "outputs": [
    {
     "name": "stderr",
     "output_type": "stream",
     "text": [
      "2022-06-17 11:19:02.500129: W tensorflow/python/util/util.cc:368] Sets are not currently considered sequences, but this may change in the future, so consider avoiding using them.\n",
      "WARNING:absl:Found untraced functions such as encoder_3_layer_call_fn, encoder_3_layer_call_and_return_conditional_losses, decoder_2_layer_call_fn, decoder_2_layer_call_and_return_conditional_losses, embedding_5_layer_call_fn while saving (showing 5 of 24). These functions will not be directly callable after loading.\n"
     ]
    },
    {
     "name": "stdout",
     "output_type": "stream",
     "text": [
      "INFO:tensorflow:Assets written to: translator/assets\n"
     ]
    },
    {
     "name": "stderr",
     "output_type": "stream",
     "text": [
      "INFO:tensorflow:Assets written to: translator/assets\n"
     ]
    }
   ],
   "source": [
    "tf.saved_model.save(translator, 'translator',\n",
    "                    signatures={'serving_default': translator.tf_translate})"
   ]
  },
  {
   "cell_type": "code",
   "execution_count": 144,
   "id": "e957ca4e",
   "metadata": {},
   "outputs": [],
   "source": [
    "reloaded = tf.saved_model.load('translator')\n",
    "result = reloaded.tf_translate(three_input_text)"
   ]
  },
  {
   "cell_type": "code",
   "execution_count": 145,
   "id": "66356f42",
   "metadata": {},
   "outputs": [
    {
     "name": "stdout",
     "output_type": "stream",
     "text": [
      "h e l\n",
      "a n y t h i n g\n",
      "n o t h i n g\n",
      "\n",
      "CPU times: user 124 ms, sys: 38.6 ms, total: 162 ms\n",
      "Wall time: 30.6 ms\n"
     ]
    }
   ],
   "source": [
    "%%time\n",
    "result = reloaded.tf_translate(three_input_text)\n",
    "\n",
    "for tr in result['text']:\n",
    "  print(tr.numpy().decode())\n",
    "\n",
    "print()"
   ]
  },
  {
   "cell_type": "code",
   "execution_count": 146,
   "id": "d47431a2",
   "metadata": {},
   "outputs": [
    {
     "data": {
      "text/plain": [
       "<tf.Tensor: shape=(3,), dtype=string, numpy=array([b'h e l l w', b'a n y t h i n g', b'n o t i n g'], dtype=object)>"
      ]
     },
     "execution_count": 146,
     "metadata": {},
     "output_type": "execute_result"
    }
   ],
   "source": [
    "three_input_text"
   ]
  },
  {
   "cell_type": "code",
   "execution_count": null,
   "id": "45696088",
   "metadata": {},
   "outputs": [],
   "source": []
  },
  {
   "cell_type": "code",
   "execution_count": null,
   "id": "49dbc69d",
   "metadata": {},
   "outputs": [],
   "source": []
  }
 ],
 "metadata": {
  "kernelspec": {
   "display_name": "Python 3 (ipykernel)",
   "language": "python",
   "name": "python3"
  },
  "language_info": {
   "codemirror_mode": {
    "name": "ipython",
    "version": 3
   },
   "file_extension": ".py",
   "mimetype": "text/x-python",
   "name": "python",
   "nbconvert_exporter": "python",
   "pygments_lexer": "ipython3",
   "version": "3.8.12"
  }
 },
 "nbformat": 4,
 "nbformat_minor": 5
}
